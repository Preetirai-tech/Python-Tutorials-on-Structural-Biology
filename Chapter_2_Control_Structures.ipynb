{
  "nbformat": 4,
  "nbformat_minor": 0,
  "metadata": {
    "colab": {
      "provenance": [],
      "include_colab_link": true
    },
    "kernelspec": {
      "name": "python3",
      "display_name": "Python 3"
    },
    "language_info": {
      "name": "python"
    }
  },
  "cells": [
    {
      "cell_type": "markdown",
      "metadata": {
        "id": "view-in-github",
        "colab_type": "text"
      },
      "source": [
        "<a href=\"https://colab.research.google.com/github/Preetirai-tech/Python-Tutorials-on-Structural-Biology/blob/main/Chapter_2_Control_Structures.ipynb\" target=\"_parent\"><img src=\"https://colab.research.google.com/assets/colab-badge.svg\" alt=\"Open In Colab\"/></a>"
      ]
    },
    {
      "cell_type": "markdown",
      "source": [
        "#**Learn Python for Biological Data Analysis**\n",
        "# **Chapter 2:** Control Structures\n",
        "\n",
        "This course is designed and taught by **Dr. Ashfaq Ahmad**. During teaching I will use all the examples from the Biological Sciences or Life Sciences."
      ],
      "metadata": {
        "id": "71Hu14a9KPKy"
      }
    },
    {
      "cell_type": "markdown",
      "source": [
        "## 📅 Course Outline\n",
        "\n",
        "---\n",
        "\n",
        "## 🏗️ Foundation (Weeks 1–2)\n",
        "\n",
        "### 📘 Chapter 1: Getting Started with Python and Colab\n",
        "- Introduction to Google Colab interface\n",
        "- Basic Python syntax and data types\n",
        "- Variables, strings, and basic operations\n",
        "- Print statements and comments\n",
        "\n",
        "### 📘 Chapter 2: Control Structures\n",
        "- Conditional statements (`if`/`else`)\n",
        "- Loops (`for` and `while`)\n",
        "- Basic functions and scope\n",
        "\n",
        "---\n",
        "\n",
        "## 🧬 Data Handling (Weeks 3–4)\n",
        "\n",
        "### 📘 Chapter 3: Data Structures for Biology\n",
        "- Lists and tuples (storing sequences, experimental data)\n",
        "- Dictionaries (gene annotations, species data)\n",
        "- Sets (unique identifiers, sample collections)\n",
        "\n",
        "### 📘 Chapter 4: Working with Files\n",
        "- Reading and writing text files\n",
        "- Handling CSV files (experimental data)\n",
        "- Basic file operations for biological datasets\n",
        "\n",
        "---\n",
        "\n",
        "## 📊 Scientific Computing (Weeks 5–7)\n",
        "\n",
        "### 📘 Chapter 5: NumPy for Numerical Data\n",
        "- Arrays for storing experimental measurements\n",
        "- Mathematical operations on datasets\n",
        "- Statistical calculations (mean, median, standard deviation)\n",
        "\n",
        "### 📘 Chapter 6: Pandas for Data Analysis\n",
        "- DataFrames for structured biological data\n",
        "- Data cleaning and manipulation\n",
        "- Filtering and grouping experimental results\n",
        "- Handling missing data\n",
        "\n",
        "### 📘 Chapter 7: Data Visualization\n",
        "- Matplotlib basics for scientific plots\n",
        "- Creating publication-quality figures\n",
        "- Specialized plots for biological data (histograms, scatter plots, box plots)\n",
        "\n",
        "---\n",
        "\n",
        "## 🔬 Biological Applications (Weeks 8–10)\n",
        "\n",
        "### 📘 Chapter 8: Sequence Analysis\n",
        "- String manipulation for DNA/RNA sequences\n",
        "- Basic sequence operations (reverse complement, transcription)\n",
        "- Reading FASTA files\n",
        "- Simple sequence statistics\n",
        "\n",
        "### 📘 Chapter 9: Statistical Analysis for Biology\n",
        "- Hypothesis testing basics\n",
        "- t-tests and chi-square tests\n",
        "- Correlation analysis\n",
        "- Introduction to `scipy.stats`\n",
        "\n",
        "### 📘 Chapter 10: Practical Projects\n",
        "- Analyzing gene expression data\n",
        "- Population genetics calculations\n",
        "- Ecological data analysis\n",
        "- Creating reproducible research workflows\n",
        "\n",
        "---\n",
        "\n",
        "## 🚀 Advanced Topics *(Optional – Weeks 11–12)*\n",
        "\n",
        "### 📘 Chapter 11: Bioinformatics Libraries\n",
        "- Introduction to Biopython\n",
        "- Working with biological databases\n",
        "- Phylogenetic analysis basics\n",
        "\n",
        "### 📘 Chapter 12: Best Practices\n",
        "- Code organization and documentation\n",
        "- Error handling\n",
        "- Reproducible research practices\n",
        "- Sharing code and results\n",
        "\n",
        "---\n",
        "\n",
        "## 🧠 Key Teaching Strategies\n",
        "\n",
        "1. Start each chapter with biological context – explain why the programming concept matters for their field.\n",
        "2. Use biological datasets throughout – gene sequences, experimental measurements, species data.\n",
        "3. Include hands-on exercises after each concept.\n",
        "4. Emphasize reproducibility – show how code documents their analysis process.\n",
        "5. Build complexity gradually – start with simple examples, then real research scenarios.\n",
        "\n",
        "---\n",
        "\n",
        "✅ This progression moves from basic programming concepts to practical biological applications, ensuring students can immediately apply what they learn to their research and coursework.\n"
      ],
      "metadata": {
        "id": "c2ipT3FlNL-E"
      }
    },
    {
      "cell_type": "markdown",
      "source": [
        "# **Chapter 2:** Control Structures\n",
        "\n",
        "\n",
        "🧬 Welcome to Chapter 2: Control Structures!\n",
        "\n",
        "In this chapter, you'll learn how to make your Python programs make decisions\n",
        "and repeat actions - essential skills for biological data analysis!\n",
        "\n",
        "By the end of this chapter, you'll be able to:\n",
        "- Use conditional statements (if/else) to analyze biological data\n",
        "- Create loops to process multiple samples or sequences\n",
        "- Write functions to organize and reuse your code\n",
        "- Apply these concepts to real biological problems\n",
        "\n",
        "🔬 Why Control Structures Matter in Biology:\n",
        "- Classify organisms based on characteristics\n",
        "- Analyze multiple experimental samples\n",
        "- Process large datasets efficiently\n",
        "- Create reusable analysis tools\n",
        "- Automate repetitive lab calculations"
      ],
      "metadata": {
        "id": "TMHVDopQRtGL"
      }
    },
    {
      "cell_type": "markdown",
      "source": [
        "# ===============================================================\n",
        "# SECTION 1: CONDITIONAL STATEMENTS - MAKING DECISIONS\n",
        "# ================================================================\n",
        "\n",
        "\n",
        "Conditional statements let your program make decisions based on data.\n",
        "Perfect for biological classification and data analysis!\n",
        "\n",
        "🧬 BIOLOGICAL APPLICATIONS:\n",
        "- Classify organisms by characteristics\n",
        "- Determine if experimental results are significant\n",
        "- Check if measurements fall within normal ranges\n",
        "- Identify mutations in sequences"
      ],
      "metadata": {
        "id": "Vwuna43RR62s"
      }
    },
    {
      "cell_type": "markdown",
      "source": [
        "## 🧠 Python Control Flow: `if`, `elif`, `else`\n",
        "\n",
        "In Python, `if`, `elif`, and `else` are **conditional statements** used to control the flow of your program based on conditions.\n",
        "\n",
        "---\n",
        "\n",
        "### ✅ Meaning of Each\n",
        "\n",
        "| Keyword | Description |\n",
        "|---------|-------------|\n",
        "| `if`    | Runs the block **if the condition is `True`** |\n",
        "| `elif`  | \"Else if\" — runs **if the previous conditions were `False`** and this one is `True` |\n",
        "| `else`  | Runs the block **if none of the above conditions are `True`** |"
      ],
      "metadata": {
        "id": "lp91x3z5yW8i"
      }
    },
    {
      "cell_type": "markdown",
      "source": [
        "\n",
        "## 1.1 BASIC `IF` STATEMENTS\n"
      ],
      "metadata": {
        "id": "hZ7yzC1PSUG0"
      }
    },
    {
      "cell_type": "code",
      "source": [
        "# Example 1: Temperature classification for bacterial growth\n",
        "temperature = 35\n",
        "\n",
        "if temperature >= 35:\n",
        "    print(\"Optimal temperature for mesophilic bacteria\")"
      ],
      "metadata": {
        "id": "ZaSNDGRqSd8f"
      },
      "execution_count": null,
      "outputs": []
    },
    {
      "cell_type": "markdown",
      "source": [
        "Change temperature value < 35 to understand its value"
      ],
      "metadata": {
        "id": "0DbEBr0wSnSs"
      }
    },
    {
      "cell_type": "code",
      "source": [
        "# Example 2: pH classification\n",
        "ph_level = 9.2\n",
        "\n",
        "if ph_level == 7.0:\n",
        "    print(\"Neutral pH\")\n",
        "if ph_level > 7.0:\n",
        "    print(\"Basic/alkaline pH\")\n",
        "if ph_level < 7.0:\n",
        "    print(\"Acidic pH\")"
      ],
      "metadata": {
        "id": "aLMwEV_aSyOQ"
      },
      "execution_count": null,
      "outputs": []
    },
    {
      "cell_type": "code",
      "source": [
        "# Example 3: Checking experimental conditions\n",
        "cell_viability = 0.85\n",
        "\n",
        "if cell_viability >= 0.8:\n",
        "    print(\"✅ Good cell viability for experiments\")"
      ],
      "metadata": {
        "id": "0AwM2pqaTNwI"
      },
      "execution_count": null,
      "outputs": []
    },
    {
      "cell_type": "markdown",
      "source": [
        "## 1.2 IF-ELSE STATEMENTS\n"
      ],
      "metadata": {
        "id": "9d0FwNCGTUAh"
      }
    },
    {
      "cell_type": "code",
      "source": [
        "print(\"\\n=== IF-ELSE STATEMENTS ===\")"
      ],
      "metadata": {
        "id": "uoCq-aeDTdsy"
      },
      "execution_count": null,
      "outputs": []
    },
    {
      "cell_type": "code",
      "source": [
        "# Example 1: Binary classification\n",
        "glucose_level = 90  # mg/dL\n",
        "\n",
        "if glucose_level > 100:\n",
        "    print(\"High glucose level - diabetes risk\")\n",
        "else:\n",
        "    print(\"Normal glucose level\")"
      ],
      "metadata": {
        "id": "Fd1KRpN6Tigr"
      },
      "execution_count": null,
      "outputs": []
    },
    {
      "cell_type": "code",
      "source": [
        "# Example 2: Mutation detection\n",
        "wild_type_sequence = \"ATCGATCG\"\n",
        "sample_sequence = \"ATTGATCG\"\n",
        "\n",
        "if sample_sequence == wild_type_sequence:\n",
        "    print(\"No mutation detected\")\n",
        "else:\n",
        "    print(\"Mutation detected!\")"
      ],
      "metadata": {
        "id": "vc27WMglTjTp"
      },
      "execution_count": null,
      "outputs": []
    },
    {
      "cell_type": "code",
      "source": [
        "# Example 3: Treatment effectiveness\n",
        "symptom_score_before = 8\n",
        "symptom_score_after = 3\n",
        "\n",
        "if symptom_score_after < symptom_score_before:\n",
        "    print(\"Treatment was effective\")\n",
        "else:\n",
        "    print(\"Treatment was not effective\")"
      ],
      "metadata": {
        "id": "42lQkQkVTjI_"
      },
      "execution_count": null,
      "outputs": []
    },
    {
      "cell_type": "markdown",
      "source": [
        "## 1.3 ELIF STATEMENTS (MULTIPLE CONDITIONS)\n"
      ],
      "metadata": {
        "id": "scs1C7tJT_2o"
      }
    },
    {
      "cell_type": "code",
      "source": [
        "print(\"\\n=== ELIF STATEMENTS ===\")"
      ],
      "metadata": {
        "id": "N_NI-Qw-Ti-L"
      },
      "execution_count": null,
      "outputs": []
    },
    {
      "cell_type": "code",
      "source": [
        "# Example 1: Temperature classification for organisms\n",
        "environment_temp = 50\n",
        "\n",
        "if environment_temp < 0:\n",
        "    print(\"Psychrophilic conditions (cold-loving organisms)\")\n",
        "elif environment_temp < 20:\n",
        "    print(\"Mesophilic conditions (moderate temperature)\")\n",
        "elif environment_temp < 45:\n",
        "    print(\"Thermophilic conditions (heat-loving organisms)\")\n",
        "else:\n",
        "    print(\"Hyperthermophilic conditions (extreme heat)\")"
      ],
      "metadata": {
        "id": "IIaNILgQUJhh",
        "outputId": "cc4b64be-4442-463c-9ecb-0aab49158924",
        "colab": {
          "base_uri": "https://localhost:8080/"
        }
      },
      "execution_count": null,
      "outputs": [
        {
          "output_type": "stream",
          "name": "stdout",
          "text": [
            "Hyperthermophilic conditions (extreme heat)\n"
          ]
        }
      ]
    },
    {
      "cell_type": "code",
      "source": [
        "# Example 2: BMI classification\n",
        "weight_kg = 70\n",
        "height_m = 1.75\n",
        "bmi = weight_kg / (height_m ** 2)\n",
        "\n",
        "if bmi < 18.5:\n",
        "    category = \"Underweight\"\n",
        "elif bmi < 25:\n",
        "    category = \"Normal weight\"\n",
        "elif bmi < 30:\n",
        "    category = \"Overweight\"\n",
        "else:\n",
        "    category = \"Obese\"\n",
        "\n",
        "print(f\"BMI: {bmi:.1f} - Category: {category}\")"
      ],
      "metadata": {
        "id": "hrxkQI4EUMYG"
      },
      "execution_count": null,
      "outputs": []
    },
    {
      "cell_type": "code",
      "source": [
        "# Example 3: Enzyme activity classification\n",
        "enzyme_activity = 0.75  # units/mL\n",
        "\n",
        "if enzyme_activity < 0.1:\n",
        "    print(\"Low enzyme activity\")\n",
        "elif enzyme_activity < 0.5:\n",
        "    print(\"Moderate enzyme activity\")\n",
        "elif enzyme_activity < 1.0:\n",
        "    print(\"High enzyme activity\")\n",
        "else:\n",
        "    print(\"Very high enzyme activity\")"
      ],
      "metadata": {
        "id": "w7b4bmjmUJK6"
      },
      "execution_count": null,
      "outputs": []
    },
    {
      "cell_type": "markdown",
      "source": [
        "## 1.4 COMPARISON OPERATORS\n"
      ],
      "metadata": {
        "id": "PuQgItT6UluK"
      }
    },
    {
      "cell_type": "markdown",
      "source": [
        "## 🔍 Python Comparison Operators\n",
        "\n",
        "Comparison operators are used to **compare two values**. They return a **Boolean value**: either `True` or `False`.\n",
        "\n",
        "---\n",
        "\n",
        "### ✅ List of Comparison Operators\n",
        "\n",
        "| Operator | Meaning                 | Example              | Result     |\n",
        "|----------|--------------------------|-----------------------|-------------|\n",
        "| `==`     | Equal to                 | `5 == 5`             | `True`     |\n",
        "| `!=`     | Not equal to             | `5 != 3`             | `True`     |\n",
        "| `>`      | Greater than             | `7 > 4`              | `True`     |\n",
        "| `<`      | Less than                | `2 < 9`              | `True`     |\n",
        "| `>=`     | Greater than or equal to| `5 >= 5`             | `True`     |\n",
        "| `<=`     | Less than or equal to   | `3 <= 4`             | `True`     |\n",
        "\n",
        "---"
      ],
      "metadata": {
        "id": "UbuiMOzIzKO0"
      }
    },
    {
      "cell_type": "code",
      "source": [
        "# All comparison operators with biological examples\n",
        "sample_size = 30\n",
        "control_size = 25\n",
        "\n",
        "print(f\"Sample size: {sample_size}, Control size: {control_size}\")\n",
        "print(f\"Equal (==): {sample_size == control_size}\")\n",
        "print(f\"Not equal (!=): {sample_size != control_size}\")\n",
        "print(f\"Greater than (>): {sample_size > control_size}\")\n",
        "print(f\"Less than (<): {sample_size < control_size}\")\n",
        "print(f\"Greater or equal (>=): {sample_size >= control_size}\")\n",
        "print(f\"Less or equal (<=): {sample_size <= control_size}\")"
      ],
      "metadata": {
        "id": "3KZxSRhTUszQ",
        "outputId": "6941a0d3-d965-4447-d2c0-d26e31e7bfef",
        "colab": {
          "base_uri": "https://localhost:8080/"
        }
      },
      "execution_count": null,
      "outputs": [
        {
          "output_type": "stream",
          "name": "stdout",
          "text": [
            "Sample size: 30, Control size: 25\n",
            "Equal (==): False\n",
            "Not equal (!=): True\n",
            "Greater than (>): True\n",
            "Less than (<): False\n",
            "Greater or equal (>=): True\n",
            "Less or equal (<=): False\n"
          ]
        }
      ]
    },
    {
      "cell_type": "markdown",
      "source": [
        "## 1.5 LOGICAL OPERATORS\n"
      ],
      "metadata": {
        "id": "xBvKkwzoU3zB"
      }
    },
    {
      "cell_type": "markdown",
      "source": [
        "## 🔗 Python Logical Operators\n",
        "\n",
        "Logical operators are used to **combine multiple conditions**. They return `True` or `False` based on the **logic between expressions**.\n",
        "\n",
        "---\n",
        "\n",
        "### ✅ List of Logical Operators\n",
        "\n",
        "| Operator | Meaning         | Example                          | Result       |\n",
        "|----------|------------------|-----------------------------------|--------------|\n",
        "| `and`    | True if **both** conditions are True | `5 > 2 and 3 < 4`         | `True`       |\n",
        "| `or`     | True if **at least one** condition is True | `5 < 2 or 3 < 4`         | `True`       |\n",
        "| `not`    | Reverses the result (True becomes False, and vice versa) | `not 5 > 2` | `False`      |\n",
        "\n",
        "---"
      ],
      "metadata": {
        "id": "IRJkbo3tzYcu"
      }
    },
    {
      "cell_type": "code",
      "source": [
        "# AND operator - all conditions must be true\n",
        "temperature = 37\n",
        "ph = 7.4\n",
        "oxygen_level = 0.2\n",
        "\n",
        "if temperature >= 35 and ph >= 7.0 and oxygen_level >= 0.15:\n",
        "    print(\"✅ Optimal conditions for cell culture\")\n",
        "else:\n",
        "    print(\"❌ Suboptimal conditions\")\n",
        "\n",
        "# OR operator - at least one condition must be true\n",
        "has_fever = True\n",
        "has_cough = False\n",
        "has_headache = True\n",
        "\n",
        "if has_fever or has_cough or has_headache:\n",
        "    print(\"Patient shows symptoms - further evaluation needed\")\n",
        "else:\n",
        "    print(\"No symptoms detected\")\n",
        "\n",
        "# NOT operator - reverses the condition\n",
        "is_control_group = False\n",
        "\n",
        "if not is_control_group:\n",
        "    print(\"This is a treatment group\")\n",
        "else:\n",
        "    print(\"This is a control group\")"
      ],
      "metadata": {
        "id": "YsL9ylC4VD1p"
      },
      "execution_count": null,
      "outputs": []
    },
    {
      "cell_type": "code",
      "source": [],
      "metadata": {
        "id": "Qt1fBAQXXaFH"
      },
      "execution_count": null,
      "outputs": []
    },
    {
      "cell_type": "markdown",
      "source": [
        "# ===============================================================\n",
        "# SECTION 2: LOOPS - REPEATING ACTIONS\n",
        "# ================================================================\n",
        "\n",
        "Loops let you repeat code multiple times - essential for processing\n",
        "biological data like multiple samples, sequences, or experimental replicates.\n",
        "\n",
        "🧬 BIOLOGICAL APPLICATIONS:\n",
        "- Process multiple DNA sequences\n",
        "- Analyze data from multiple patients\n",
        "- Perform calculations on experimental replicates\n",
        "- Generate reports for multiple samples"
      ],
      "metadata": {
        "id": "8syWsTwAVgzi"
      }
    },
    {
      "cell_type": "markdown",
      "source": [
        "## 🔁 LOOPS in Python – Repeating Actions\n",
        "\n",
        "Loops are used in Python to **repeat a block of code** multiple times. This is useful when processing sequences, files, or data collections.\n",
        "\n",
        "---\n",
        "\n",
        "### ✅ Two Main Types of Loops\n",
        "\n",
        "| Loop Type   | Description                         |\n",
        "|-------------|-------------------------------------|\n",
        "| `for` loop  | Repeats **a fixed number of times** or over a sequence |\n",
        "| `while` loop| Repeats **while a condition is True** |\n",
        "\n",
        "---\n",
        "\n",
        "## 🔂 `for` Loop\n",
        "\n",
        "Used to iterate over:\n",
        "- Lists\n",
        "- Strings\n",
        "- Ranges\n",
        "- Other iterable objects\n"
      ],
      "metadata": {
        "id": "-EUeTM4Lzo-c"
      }
    },
    {
      "cell_type": "markdown",
      "source": [
        "## 2.1 FOR LOOPS - ITERATING THROUGH SEQUENCES\n"
      ],
      "metadata": {
        "id": "g1UZDkMVfzEF"
      }
    },
    {
      "cell_type": "code",
      "source": [
        "print(\"=== FOR LOOPS ===\")"
      ],
      "metadata": {
        "colab": {
          "base_uri": "https://localhost:8080/"
        },
        "id": "qtaP_zEbf37y",
        "outputId": "84933d71-901e-46bc-b247-8cd21dc82b50"
      },
      "execution_count": null,
      "outputs": [
        {
          "output_type": "stream",
          "name": "stdout",
          "text": [
            "=== FOR LOOPS ===\n"
          ]
        }
      ]
    },
    {
      "cell_type": "code",
      "source": [
        "# Example 1: Processing multiple samples\n",
        "sample_ids = [\"S001\", \"S002\", \"S003\", \"S004\", \"S005\"]\n",
        "\n",
        "print(\"Processing samples:\")\n",
        "for sample in sample_ids:\n",
        "    print(f\"Analyzing sample {sample}\")"
      ],
      "metadata": {
        "id": "cY3VaikFgFYB"
      },
      "execution_count": null,
      "outputs": []
    },
    {
      "cell_type": "code",
      "source": [
        "# Example 2: DNA sequence analysis\n",
        "dna_sequence = \"ATCGATCGTAG\"\n",
        "\n",
        "print(f\"\\nAnalyzing sequence: {dna_sequence}\")\n",
        "for i, nucleotide in enumerate(dna_sequence):\n",
        "    print(f\"Position {i}: {nucleotide}\")"
      ],
      "metadata": {
        "id": "UfRGh0-BgOsD"
      },
      "execution_count": null,
      "outputs": []
    },
    {
      "cell_type": "code",
      "source": [
        "# Example 3: Processing experimental data\n",
        "cell_counts = [150000, 175000, 162000, 158000, 169000]\n",
        "\n",
        "print(\"\\nCell count analysis:\")\n",
        "total_cells = 0\n",
        "for count in cell_counts:\n",
        "    total_cells += count\n",
        "    print(f\"Sample: {count:,} cells\")\n",
        "\n",
        "average_count = total_cells / len(cell_counts)\n",
        "print(f\"Average cell count: {average_count:,.0f} cells\")"
      ],
      "metadata": {
        "id": "Fh9BuWiZgnLq"
      },
      "execution_count": null,
      "outputs": []
    },
    {
      "cell_type": "markdown",
      "source": [
        "**What does \\n do?**\n",
        "It tells Python:\n",
        "\n",
        "\"Start a new line here.\"\n",
        "\n",
        "print(\"Line 1\\nLine 2\\nLine 3\")\n",
        "\n",
        "Line 1\n",
        "\n",
        "Line 2\n",
        "\n",
        "Line 3\n"
      ],
      "metadata": {
        "id": "Q_JM-c7rguyr"
      }
    },
    {
      "cell_type": "markdown",
      "source": [
        "# 2.2 RANGE FUNCTION\n"
      ],
      "metadata": {
        "id": "kA5GSqIEhZfy"
      }
    },
    {
      "cell_type": "markdown",
      "source": [
        "## 🔢 Python `range()` Function – Generating Number Sequences\n",
        "\n",
        "The `range()` function is used to generate a **sequence of numbers**. It's commonly used in loops (especially `for` loops).\n",
        "\n",
        "---\n",
        "\n",
        "### ✅ Syntax of `range()`\n",
        "\n",
        "```python\n",
        "range(start, stop, step)\n"
      ],
      "metadata": {
        "id": "b-0Uz2Llz8ey"
      }
    },
    {
      "cell_type": "code",
      "source": [
        "# Example 1: Simple range\n",
        "print(\"Days 1-5 of experiment:\")\n",
        "for day in range(1, 6):\n",
        "    print(f\"Day {day}: Record observations\")"
      ],
      "metadata": {
        "id": "zxYLBC5Ml_lW"
      },
      "execution_count": null,
      "outputs": []
    },
    {
      "cell_type": "code",
      "source": [
        "# Example 2: Range with step\n",
        "print(\"\\nEvery 2 hours monitoring:\")\n",
        "for hour in range(0, 25, 2):\n",
        "    print(f\"Hour {hour}: Check temperature and pH\")"
      ],
      "metadata": {
        "id": "uvUoyvDchflX"
      },
      "execution_count": null,
      "outputs": []
    },
    {
      "cell_type": "code",
      "source": [
        "# Example 3: Processing numbered samples\n",
        "print(\"\\nProcessing 10 samples:\")\n",
        "for sample_num in range(1, 11):\n",
        "    print(f\"Sample {sample_num:02d}: Ready for analysis\")"
      ],
      "metadata": {
        "id": "0C3mbC3gmNl9"
      },
      "execution_count": null,
      "outputs": []
    },
    {
      "cell_type": "markdown",
      "source": [
        "# 2.3 WHILE LOOPS\n"
      ],
      "metadata": {
        "id": "LmDf3u1MmdUK"
      }
    },
    {
      "cell_type": "markdown",
      "source": [
        "## 🔁 Python `while` Loops – Repeating Actions with a Condition\n",
        "\n",
        "A `while` loop repeats a block of code **as long as a condition is `True`**.\n",
        "\n",
        "---"
      ],
      "metadata": {
        "id": "twvO-DaI0J9b"
      }
    },
    {
      "cell_type": "code",
      "source": [
        "# Example 1: Bacterial growth simulation\n",
        "bacteria_count = 100\n",
        "generation = 0\n",
        "\n",
        "print(\"Bacterial growth simulation:\")\n",
        "while bacteria_count < 10000:\n",
        "    generation += 1\n",
        "    bacteria_count *= 2\n",
        "    print(f\"Generation {generation}: {bacteria_count:,} bacteria\")\n",
        "\n",
        "print(f\"Reached {bacteria_count:,} bacteria in {generation} generations\")"
      ],
      "metadata": {
        "id": "y_-Fna2umk6c"
      },
      "execution_count": null,
      "outputs": []
    },
    {
      "cell_type": "code",
      "source": [
        "# Example 2: Drug concentration decay\n",
        "drug_concentration = 100  # mg/L\n",
        "half_life_hours = 2\n",
        "time_hours = 0\n",
        "\n",
        "print(\"\\nDrug concentration over time:\")\n",
        "while drug_concentration > 10:\n",
        "    print(f\"Hour {time_hours}: {drug_concentration:.1f} mg/L\")\n",
        "    time_hours += half_life_hours\n",
        "    drug_concentration /= 2\n",
        "\n",
        "print(f\"Drug concentration dropped below 10 mg/L at hour {time_hours}\")"
      ],
      "metadata": {
        "id": "Sgt22dQLmtKN"
      },
      "execution_count": null,
      "outputs": []
    },
    {
      "cell_type": "markdown",
      "source": [
        "## 2.4 LOOP CONTROL: BREAK AND CONTINUE\n"
      ],
      "metadata": {
        "id": "Hp8PKPfMnBB0"
      }
    },
    {
      "cell_type": "markdown",
      "source": [
        "## 🔄 LOOP CONTROL: `break` and `continue` in Python\n",
        "\n",
        "Loop control statements allow you to **change the normal flow** of a `for` or `while` loop.\n",
        "\n",
        "---\n",
        "\n",
        "### ✅ `break` – Exit the Loop Immediately\n",
        "\n",
        "- **Use `break`** to completely **stop** the loop when a certain condition is met.\n",
        "\n",
        "### 🔍 Example: Stop at First 'T' in DNA Sequence"
      ],
      "metadata": {
        "id": "duT4W1CD0VYL"
      }
    },
    {
      "cell_type": "code",
      "source": [
        "# Example 1: Finding first occurrence with break\n",
        "dna_sequence = \"ATCGATCATGGTAG\"\n",
        "start_codon = \"ATG\"\n",
        "\n",
        "print(f\"Searching for start codon {start_codon} in {dna_sequence}\")\n",
        "for i in range(len(dna_sequence) - 2):\n",
        "    codon = dna_sequence[i:i+3]\n",
        "    if codon == start_codon:\n",
        "        print(f\"Found start codon at position {i}\")\n",
        "        break\n",
        "else:\n",
        "    print(\"Start codon not found\")"
      ],
      "metadata": {
        "id": "SOYOfcamnOZC",
        "outputId": "fc6ccc12-c95e-4873-dafc-982f545beb8b",
        "colab": {
          "base_uri": "https://localhost:8080/"
        }
      },
      "execution_count": null,
      "outputs": [
        {
          "output_type": "stream",
          "name": "stdout",
          "text": [
            "Searching for start codon ATG in ATCGATCATGGTAG\n",
            "Found start codon at position 7\n"
          ]
        }
      ]
    },
    {
      "cell_type": "code",
      "source": [
        "# Example 2: Skipping invalid data with continue\n",
        "experimental_data = [25.5, -999, 30.2, 28.1, -999, 32.4]  # -999 = missing data\n",
        "\n",
        "print(\"\\nProcessing experimental data (skipping missing values):\")\n",
        "valid_data = []\n",
        "for value in experimental_data:\n",
        "    if value == -999:\n",
        "        continue  # Skip missing data\n",
        "    valid_data.append(value)\n",
        "    print(f\"Valid measurement: {value}\")\n",
        "\n",
        "print(f\"Processed {len(valid_data)} valid measurements\")"
      ],
      "metadata": {
        "id": "Y4z8pDgQn2eq"
      },
      "execution_count": null,
      "outputs": []
    },
    {
      "cell_type": "markdown",
      "source": [
        "# ==============================================================\n",
        "# SECTION 3: FUNCTIONS - ORGANIZING YOUR CODE\n",
        "# ================================================================\n",
        "\n",
        "\n",
        "Functions let you group code into reusable blocks - like creating your own\n",
        "biological analysis tools!\n",
        "\n",
        "🧬 BIOLOGICAL APPLICATIONS:\n",
        "- Create reusable analysis functions\n",
        "- Standardize calculations across experiments\n",
        "- Build libraries of biological tools\n",
        "- Make code more readable and maintainable"
      ],
      "metadata": {
        "id": "rp6pbpTHn_xl"
      }
    },
    {
      "cell_type": "markdown",
      "source": [
        "## 🧩 FUNCTIONS – Organizing Your Code in Python\n",
        "\n",
        "Functions allow you to **group reusable code** into blocks. This helps keep your programs **organized, readable, and modular**.\n",
        "\n",
        "---\n",
        "\n",
        "### ✅ Why Use Functions?\n",
        "\n",
        "- Avoid repeating code\n",
        "- Improve readability\n",
        "- Make your code easier to debug and test\n",
        "- Enable reuse across projects\n",
        "\n",
        "---"
      ],
      "metadata": {
        "id": "CsrKmYBo0j7s"
      }
    },
    {
      "cell_type": "markdown",
      "source": [
        "##3.1 BASIC FUNCTION DEFINITION"
      ],
      "metadata": {
        "id": "qE0PrtyZoYKo"
      }
    },
    {
      "cell_type": "markdown",
      "source": [
        "## 🧩 Python Keyword: `def`\n",
        "\n",
        "### ✅ What is `def`?\n",
        "\n",
        "The keyword `def` is used in Python to **define a function** — a reusable block of code that performs a specific task.\n",
        "\n",
        "---\n",
        "\n",
        "### 🧠 Basic Structure\n",
        "\n",
        "```python\n",
        "def function_name():\n",
        "    # Code block to run\n",
        "    # (indented inside the function)\n"
      ],
      "metadata": {
        "id": "MvtplQDO0z_L"
      }
    },
    {
      "cell_type": "code",
      "source": [
        "def calculate_bmi(weight_kg, height_m):\n",
        "    \"\"\"Calculate Body Mass Index from weight and height.\"\"\"\n",
        "    bmi = weight_kg / (height_m ** 2)\n",
        "    return bmi\n",
        "\n",
        "# Using the function\n",
        "patient_weight = 90\n",
        "patient_height = 1.75\n",
        "patient_bmi = calculate_bmi(patient_weight, patient_height)\n",
        "print(f\"Patient BMI: {patient_bmi:.1f}\")"
      ],
      "metadata": {
        "id": "965XrzRLoceV"
      },
      "execution_count": null,
      "outputs": []
    },
    {
      "cell_type": "markdown",
      "source": [
        "## 3.2 FUNCTIONS WITH BIOLOGICAL APPLICATIONS"
      ],
      "metadata": {
        "id": "FddfeI4rohfb"
      }
    },
    {
      "cell_type": "code",
      "source": [
        "def gc_content(dna_sequence):\n",
        "    \"\"\"Calculate GC content of a DNA sequence.\"\"\"\n",
        "    sequence = dna_sequence.upper()\n",
        "    g_count = sequence.count('G')\n",
        "    c_count = sequence.count('C')\n",
        "    total_length = len(sequence)\n",
        "\n",
        "    if total_length == 0:\n",
        "        return 0\n",
        "\n",
        "    gc_percentage = (g_count + c_count) / total_length * 100\n",
        "    return gc_percentage"
      ],
      "metadata": {
        "id": "T6cI1zeooy-F"
      },
      "execution_count": null,
      "outputs": []
    },
    {
      "cell_type": "code",
      "source": [
        "# Test the function\n",
        "test_sequence = \"ATCGATCGTAG\"\n",
        "gc_percent = gc_content(test_sequence)\n",
        "print(f\"GC content of {test_sequence}: {gc_percent:.1f}%\")\n",
        "\n",
        "def reverse_complement(dna_sequence):\n",
        "    \"\"\"Generate reverse complement of a DNA sequence.\"\"\"\n",
        "    complement_map = {'A': 'T', 'T': 'A', 'G': 'C', 'C': 'G'}\n",
        "    complement = \"\"\n",
        "\n",
        "    for nucleotide in dna_sequence.upper():\n",
        "        complement += complement_map[nucleotide]\n",
        "\n",
        "    return complement[::-1]  # Reverse the string"
      ],
      "metadata": {
        "id": "6IlqFcSTo1w-"
      },
      "execution_count": null,
      "outputs": []
    },
    {
      "cell_type": "code",
      "source": [
        "# Test the function\n",
        "original = \"ATCGATCG\"\n",
        "rev_comp = reverse_complement(original)\n",
        "print(f\"Original: {original}\")\n",
        "print(f\"Reverse complement: {rev_comp}\")\n",
        "\n",
        "def calculate_molarity(moles, volume_liters):\n",
        "    \"\"\"Calculate molarity from moles and volume.\"\"\"\n",
        "    if volume_liters <= 0:\n",
        "        return \"Volume must be positive\"\n",
        "\n",
        "    molarity = moles / volume_liters\n",
        "    return molarity"
      ],
      "metadata": {
        "id": "DMES14Bno5v5"
      },
      "execution_count": null,
      "outputs": []
    },
    {
      "cell_type": "code",
      "source": [
        "# Test the function\n",
        "glucose_moles = 0.1\n",
        "solution_volume = 0.5\n",
        "glucose_molarity = calculate_molarity(glucose_moles, solution_volume)\n",
        "print(f\"Glucose molarity: {glucose_molarity:.2f} M\")"
      ],
      "metadata": {
        "id": "GsdxM8bJpByz"
      },
      "execution_count": null,
      "outputs": []
    },
    {
      "cell_type": "markdown",
      "source": [
        "## 3.3 FUNCTIONS WITH DEFAULT PARAMETERS"
      ],
      "metadata": {
        "id": "vFTRQ-NApN2m"
      }
    },
    {
      "cell_type": "code",
      "source": [
        "def bacterial_growth(initial_count, growth_rate=2, time_hours=1):\n",
        "    \"\"\"Calculate bacterial growth with default parameters.\"\"\"\n",
        "    final_count = initial_count * (growth_rate ** time_hours)\n",
        "    return final_count\n",
        "\n",
        "# Using function with different parameter combinations\n",
        "print(\"\\nBacterial growth calculations:\")\n",
        "print(f\"Default parameters: {bacterial_growth(1000):,} bacteria\")\n",
        "print(f\"Custom growth rate: {bacterial_growth(1000, 1.5):,} bacteria\")\n",
        "print(f\"Custom time: {bacterial_growth(1000, time_hours=3):,} bacteria\")\n",
        "print(f\"All custom: {bacterial_growth(1000, 1.8, 2):,} bacteria\")"
      ],
      "metadata": {
        "id": "JXQX14mApU_d"
      },
      "execution_count": null,
      "outputs": []
    },
    {
      "cell_type": "markdown",
      "source": [
        "## 3.4 FUNCTIONS RETURNING MULTIPLE VALUES"
      ],
      "metadata": {
        "id": "MfT-NgzOphIk"
      }
    },
    {
      "cell_type": "code",
      "source": [
        "def sequence_analysis(dna_sequence):\n",
        "    \"\"\"Analyze DNA sequence and return multiple statistics.\"\"\"\n",
        "    sequence = dna_sequence.upper()\n",
        "    length = len(sequence)\n",
        "\n",
        "    # Count nucleotides\n",
        "    a_count = sequence.count('A')\n",
        "    t_count = sequence.count('T')\n",
        "    g_count = sequence.count('G')\n",
        "    c_count = sequence.count('C')\n",
        "\n",
        "    # Calculate GC content\n",
        "    gc_content = (g_count + c_count) / length * 100\n",
        "\n",
        "    return length, a_count, t_count, g_count, c_count, gc_content\n",
        "\n",
        "# Using the function\n",
        "test_seq = \"ATCGATCGTAGCTAGC\"\n",
        "length, a, t, g, c, gc = sequence_analysis(test_seq)\n",
        "\n",
        "print(f\"\\nSequence analysis for: {test_seq}\")\n",
        "print(f\"Length: {length} bp\")\n",
        "print(f\"A: {a}, T: {t}, G: {g}, C: {c}\")\n",
        "print(f\"GC content: {gc:.1f}%\")"
      ],
      "metadata": {
        "id": "EMeJd_Otpgyk"
      },
      "execution_count": null,
      "outputs": []
    },
    {
      "cell_type": "markdown",
      "source": [
        "the `upper()` function converts lower case to upper case"
      ],
      "metadata": {
        "id": "AJOJC7F6pzHU"
      }
    },
    {
      "cell_type": "markdown",
      "source": [
        "# =============================================================\n",
        "# SECTION 4: NESTED STRUCTURES AND COMPLEX EXAMPLES\n",
        "# ================================================================"
      ],
      "metadata": {
        "id": "qouIpJmFqQyj"
      }
    },
    {
      "cell_type": "markdown",
      "source": [
        "## 4.1 NESTED LOOPS FOR MULTIPLE SAMPLES"
      ],
      "metadata": {
        "id": "Murmy2ioqW4o"
      }
    },
    {
      "cell_type": "code",
      "source": [
        "# Processing multiple patients with multiple measurements\n",
        "patients = [\"P001\", \"P002\", \"P003\"]\n",
        "measurements = [\"temperature\", \"blood_pressure\", \"heart_rate\"]\n",
        "\n",
        "print(\"Patient measurements:\")\n",
        "for patient in patients:\n",
        "    print(f\"\\nPatient {patient}:\")\n",
        "    for measurement in measurements:\n",
        "        print(f\"  Recording {measurement}\")"
      ],
      "metadata": {
        "id": "0LNoURXcqher"
      },
      "execution_count": null,
      "outputs": []
    },
    {
      "cell_type": "markdown",
      "source": [
        "## 4.2 FUNCTIONS WITH CONDITIONALS AND LOOPS"
      ],
      "metadata": {
        "id": "U9I_h2lZqp7C"
      }
    },
    {
      "cell_type": "code",
      "source": [
        "def gc_content(seq):\n",
        "    \"\"\"Calculate GC content percentage of a DNA sequence.\"\"\"\n",
        "    gc_count = seq.count('G') + seq.count('C')\n",
        "    return (gc_count / len(seq)) * 100 if len(seq) > 0 else 0\n",
        "\n",
        "def classify_sequences(sequences):\n",
        "    \"\"\"Classify multiple DNA sequences by length and GC content.\"\"\"\n",
        "    results = []\n",
        "\n",
        "    for i, seq in enumerate(sequences):\n",
        "        length = len(seq)\n",
        "        gc = gc_content(seq)\n",
        "\n",
        "        # Classify by length\n",
        "        if length < 10:\n",
        "            size_class = \"Short\"\n",
        "        elif length < 50:\n",
        "            size_class = \"Medium\"\n",
        "        else:\n",
        "            size_class = \"Long\"\n",
        "\n",
        "        # Classify by GC content\n",
        "        if gc < 40:\n",
        "            gc_class = \"Low GC\"\n",
        "        elif gc < 60:\n",
        "            gc_class = \"Medium GC\"\n",
        "        else:\n",
        "            gc_class = \"High GC\"\n",
        "\n",
        "        results.append({\n",
        "            'sequence': seq,\n",
        "            'length': length,\n",
        "            'gc_content': gc,\n",
        "            'size_class': size_class,\n",
        "            'gc_class': gc_class\n",
        "        })\n",
        "\n",
        "    return results\n",
        "\n",
        "# Test with multiple sequences\n",
        "test_sequences = [\n",
        "    \"ATCGATCG\",\n",
        "    \"GCGCGCGCGCGCGCGC\",\n",
        "    \"ATATATATATATATAT\",\n",
        "    \"ATCGATCGATCGATCGATCGATCGATCGATCGATCGATCGATCGATCG\"\n",
        "]\n",
        "\n",
        "sequence_results = classify_sequences(test_sequences)\n",
        "\n",
        "print(\"\\nSequence classification results:\")\n",
        "for i, result in enumerate(sequence_results):\n",
        "    print(f\"Sequence {i+1}: {result['size_class']}, {result['gc_class']}\")\n",
        "    print(f\"  Length: {result['length']} bp, GC: {result['gc_content']:.1f}%\")"
      ],
      "metadata": {
        "id": "njWfAqZ_qu9h"
      },
      "execution_count": null,
      "outputs": []
    },
    {
      "cell_type": "markdown",
      "source": [
        "In Python, `enumerate()` is a built-in function that lets you loop through a list (or any iterable) and keep track of the index of each item at the same time."
      ],
      "metadata": {
        "id": "-eUVa5tYrCun"
      }
    },
    {
      "cell_type": "markdown",
      "source": [
        "# ============================================================\n",
        "# SECTION 5: PRACTICAL EXERCISES\n",
        "# ============================================================="
      ],
      "metadata": {
        "id": "6Mm34gZbrRHC"
      }
    },
    {
      "cell_type": "markdown",
      "source": [
        "**EXERCISE 1:** Blood Test Analysis\n",
        "Create a function to analyze blood test results and classify them."
      ],
      "metadata": {
        "id": "6RekEoC8rZR8"
      }
    },
    {
      "cell_type": "code",
      "source": [
        "def analyze_blood_test(glucose, cholesterol, hemoglobin):\n",
        "    \"\"\"Analyze blood test results and return classifications.\"\"\"\n",
        "    results = {}\n",
        "\n",
        "    # Glucose classification (mg/dL)\n",
        "    if glucose < 70:\n",
        "        results['glucose'] = 'Low'\n",
        "    elif glucose <= 100:\n",
        "        results['glucose'] = 'Normal'\n",
        "    elif glucose <= 125:\n",
        "        results['glucose'] = 'Pre-diabetic'\n",
        "    else:\n",
        "        results['glucose'] = 'Diabetic'\n",
        "\n",
        "    # Cholesterol classification (mg/dL)\n",
        "    if cholesterol < 200:\n",
        "        results['cholesterol'] = 'Desirable'\n",
        "    elif cholesterol <= 239:\n",
        "        results['cholesterol'] = 'Borderline high'\n",
        "    else:\n",
        "        results['cholesterol'] = 'High'\n",
        "\n",
        "    # Hemoglobin classification (g/dL)\n",
        "    if hemoglobin < 12:\n",
        "        results['hemoglobin'] = 'Low (anemic)'\n",
        "    elif hemoglobin <= 16:\n",
        "        results['hemoglobin'] = 'Normal'\n",
        "    else:\n",
        "        results['hemoglobin'] = 'High'\n",
        "\n",
        "    return results\n",
        "\n",
        "# Test the function\n",
        "patient_data = [\n",
        "    (95, 180, 14.2),\n",
        "    (140, 220, 11.5),\n",
        "    (75, 160, 15.0)\n",
        "]\n",
        "\n",
        "print(\"Blood test analysis:\")\n",
        "for i, (glucose, cholesterol, hemoglobin) in enumerate(patient_data):\n",
        "    results = analyze_blood_test(glucose, cholesterol, hemoglobin)\n",
        "    print(f\"\\nPatient {i+1}:\")\n",
        "    print(f\"  Glucose: {glucose} mg/dL - {results['glucose']}\")\n",
        "    print(f\"  Cholesterol: {cholesterol} mg/dL - {results['cholesterol']}\")\n",
        "    print(f\"  Hemoglobin: {hemoglobin} g/dL - {results['hemoglobin']}\")"
      ],
      "metadata": {
        "id": "gywJtBKmro_G"
      },
      "execution_count": null,
      "outputs": []
    },
    {
      "cell_type": "markdown",
      "source": [
        "**EXERCISE 2:** Antibiotic Susceptibility Testing\n",
        "Simulate antibiotic susceptibility testing results."
      ],
      "metadata": {
        "id": "b5u3CRjxrvZD"
      }
    },
    {
      "cell_type": "code",
      "source": [
        "def antibiotic_susceptibility(zone_diameter, antibiotic):\n",
        "    \"\"\"Determine antibiotic susceptibility based on zone diameter.\"\"\"\n",
        "    # Simplified breakpoints (in mm)\n",
        "    breakpoints = {\n",
        "        'penicillin': {'resistant': 28, 'intermediate': 29},\n",
        "        'ampicillin': {'resistant': 16, 'intermediate': 17},\n",
        "        'tetracycline': {'resistant': 18, 'intermediate': 19}\n",
        "    }\n",
        "\n",
        "    if antibiotic not in breakpoints:\n",
        "        return 'Unknown antibiotic'\n",
        "\n",
        "    resistant_cutoff = breakpoints[antibiotic]['resistant']\n",
        "    intermediate_cutoff = breakpoints[antibiotic]['intermediate']\n",
        "\n",
        "    if zone_diameter <= resistant_cutoff:\n",
        "        return 'Resistant'\n",
        "    elif zone_diameter <= intermediate_cutoff:\n",
        "        return 'Intermediate'\n",
        "    else:\n",
        "        return 'Susceptible'\n",
        "\n",
        "# Test antibiotic susceptibility\n",
        "antibiotics_tested = [\n",
        "    ('penicillin', 25),\n",
        "    ('ampicillin', 18),\n",
        "    ('tetracycline', 22)\n",
        "]\n",
        "\n",
        "print(\"\\nAntibiotic susceptibility testing:\")\n",
        "for antibiotic, diameter in antibiotics_tested:\n",
        "    result = antibiotic_susceptibility(diameter, antibiotic)\n",
        "    print(f\"{antibiotic.capitalize()}: {diameter}mm zone - {result}\")"
      ],
      "metadata": {
        "id": "WwXtw2pQr4pU"
      },
      "execution_count": null,
      "outputs": []
    },
    {
      "cell_type": "markdown",
      "source": [
        "**EXERCISE 3:** DNA Mutation Scanner\n",
        "Create a function to find mutations by comparing sequences."
      ],
      "metadata": {
        "id": "pVZhX8Q2r_Ib"
      }
    },
    {
      "cell_type": "code",
      "source": [
        "def find_mutations(reference, sample):\n",
        "    \"\"\"Find mutations between reference and sample sequences.\"\"\"\n",
        "    mutations = []\n",
        "\n",
        "    if len(reference) != len(sample):\n",
        "        return \"Sequences must be the same length\"\n",
        "\n",
        "    for i in range(len(reference)):\n",
        "        if reference[i] != sample[i]:\n",
        "            mutations.append({\n",
        "                'position': i + 1,\n",
        "                'reference': reference[i],\n",
        "                'sample': sample[i]\n",
        "            })\n",
        "\n",
        "    return mutations\n",
        "\n",
        "# Test mutation detection\n",
        "reference_seq = \"ATCGATCGATCG\"\n",
        "sample_sequences = [\n",
        "    \"ATCGATCGATCG\",  # No mutations\n",
        "    \"ATCGATCGATCC\",  # One mutation\n",
        "    \"ATCGATCAATCC\"   # Two mutations\n",
        "]\n",
        "\n",
        "print(\"\\nMutation analysis:\")\n",
        "for i, sample in enumerate(sample_sequences):\n",
        "    mutations = find_mutations(reference_seq, sample)\n",
        "    print(f\"\\nSample {i+1}: {sample}\")\n",
        "    if isinstance(mutations, str):\n",
        "        print(f\"Error: {mutations}\")\n",
        "    elif len(mutations) == 0:\n",
        "        print(\"No mutations detected\")\n",
        "    else:\n",
        "        print(f\"Found {len(mutations)} mutation(s):\")\n",
        "        for mut in mutations:\n",
        "            print(f\"  Position {mut['position']}: {mut['reference']} → {mut['sample']}\")"
      ],
      "metadata": {
        "id": "wqdu4djNsGmb"
      },
      "execution_count": null,
      "outputs": []
    },
    {
      "cell_type": "markdown",
      "source": [
        "# ==============================================================\n",
        "# SECTION 6: HOMEWORK ASSIGNMENTS\n",
        "# ===============================================================\n",
        "\n",
        "🏠 HOMEWORK 1: Enzyme Activity Analysis\n",
        "Write a function that:\n",
        "1. Takes a list of enzyme activity measurements\n",
        "2. Calculates mean, min, and max activity\n",
        "3. Classifies each measurement as low, normal, or high\n",
        "4. Returns a summary report\n",
        "\n",
        "🏠 HOMEWORK 2: Population Genetics\n",
        "Create a function that:\n",
        "1. Takes allele frequencies for a population\n",
        "2. Calculates Hardy-Weinberg equilibrium frequencies\n",
        "3. Compares observed vs expected frequencies\n",
        "4. Determines if population is in equilibrium\n",
        "\n",
        "🏠 HOMEWORK 3: Drug Dosage Calculator\n",
        "Build a function that:\n",
        "1. Takes patient weight and drug concentration\n",
        "2. Calculates appropriate dosage based on weight\n",
        "3. Checks for contraindications based on age/conditions\n",
        "4. Returns dosage recommendations with warnings\n",
        "\n",
        "🏠 HOMEWORK 4: Phylogenetic Distance\n",
        "Write a function that:\n",
        "1. Compares two DNA sequences\n",
        "2. Counts the number of differences\n",
        "3. Calculates percent similarity\n",
        "4. Classifies evolutionary relationship (close, distant, very distant)"
      ],
      "metadata": {
        "id": "U_OC6plrwdvf"
      }
    },
    {
      "cell_type": "markdown",
      "source": [
        "🎉 CONGRATULATIONS! You've completed Chapter 2!\n",
        "\n",
        "You've learned:\n",
        "✅ Conditional statements (if/elif/else)\n",
        "✅ Comparison and logical operators\n",
        "✅ For loops and while loops\n",
        "✅ Loop control (break/continue)\n",
        "✅ Functions with parameters and return values\n",
        "✅ Complex biological applications\n",
        "\n",
        "🔬 BIOLOGICAL APPLICATIONS MASTERED:\n",
        "- Sequence analysis and classification\n",
        "- Blood test interpretation\n",
        "- Antibiotic susceptibility testing\n",
        "- Mutation detection\n",
        "- Bacterial growth modeling\n",
        "- Drug concentration calculations\n",
        "\n",
        "💡 KEY PROGRAMMING CONCEPTS:\n",
        "- Decision making with conditionals\n",
        "- Repetition with loops\n",
        "- Code organization with functions\n",
        "- Parameter passing and return values\n",
        "- Error handling basics"
      ],
      "metadata": {
        "id": "k4E-NUQDwtVV"
      }
    }
  ]
}