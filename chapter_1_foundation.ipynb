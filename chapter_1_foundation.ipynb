{
  "nbformat": 4,
  "nbformat_minor": 0,
  "metadata": {
    "colab": {
      "provenance": [],
      "include_colab_link": true
    },
    "kernelspec": {
      "name": "python3",
      "display_name": "Python 3"
    },
    "language_info": {
      "name": "python"
    }
  },
  "cells": [
    {
      "cell_type": "markdown",
      "metadata": {
        "id": "view-in-github",
        "colab_type": "text"
      },
      "source": [
        "<a href=\"https://colab.research.google.com/github/Preetirai-tech/Python-Tutorials-on-Structural-Biology/blob/main/chapter_1_foundation.ipynb\" target=\"_parent\"><img src=\"https://colab.research.google.com/assets/colab-badge.svg\" alt=\"Open In Colab\"/></a>"
      ]
    },
    {
      "cell_type": "markdown",
      "source": [
        "#**Learn Python for Biological Science**\n",
        "\n",
        "This course is designed and taught by **Dr. Ashfaq Ahmad**. During teaching I will use all the examples from the Biological Sciences or Life Sciences."
      ],
      "metadata": {
        "id": "71Hu14a9KPKy"
      }
    },
    {
      "cell_type": "markdown",
      "source": [
        "## 📅 Course Outline\n",
        "\n",
        "---\n",
        "\n",
        "## 🏗️ Foundation (Weeks 1–2)\n",
        "\n",
        "### 📘 Chapter 1: Getting Started with Python and Colab\n",
        "- Introduction to Google Colab interface\n",
        "- Basic Python syntax and data types\n",
        "- Variables, strings, and basic operations\n",
        "- Print statements and comments\n",
        "\n",
        "### 📘 Chapter 2: Control Structures\n",
        "- Conditional statements (`if`/`else`)\n",
        "- Loops (`for` and `while`)\n",
        "- Basic functions and scope\n",
        "\n",
        "---\n",
        "\n",
        "## 🧬 Data Handling (Weeks 3–4)\n",
        "\n",
        "### 📘 Chapter 3: Data Structures for Biology\n",
        "- Lists and tuples (storing sequences, experimental data)\n",
        "- Dictionaries (gene annotations, species data)\n",
        "- Sets (unique identifiers, sample collections)\n",
        "\n",
        "### 📘 Chapter 4: Working with Files\n",
        "- Reading and writing text files\n",
        "- Handling CSV files (experimental data)\n",
        "- Basic file operations for biological datasets\n",
        "\n",
        "---\n",
        "\n",
        "## 📊 Scientific Computing (Weeks 5–7)\n",
        "\n",
        "### 📘 Chapter 5: NumPy for Numerical Data\n",
        "- Arrays for storing experimental measurements\n",
        "- Mathematical operations on datasets\n",
        "- Statistical calculations (mean, median, standard deviation)\n",
        "\n",
        "### 📘 Chapter 6: Pandas for Data Analysis\n",
        "- DataFrames for structured biological data\n",
        "- Data cleaning and manipulation\n",
        "- Filtering and grouping experimental results\n",
        "- Handling missing data\n",
        "\n",
        "### 📘 Chapter 7: Data Visualization\n",
        "- Matplotlib basics for scientific plots\n",
        "- Creating publication-quality figures\n",
        "- Specialized plots for biological data (histograms, scatter plots, box plots)\n",
        "\n",
        "---\n",
        "\n",
        "## 🔬 Biological Applications (Weeks 8–10)\n",
        "\n",
        "### 📘 Chapter 8: Sequence Analysis\n",
        "- String manipulation for DNA/RNA sequences\n",
        "- Basic sequence operations (reverse complement, transcription)\n",
        "- Reading FASTA files\n",
        "- Simple sequence statistics\n",
        "\n",
        "### 📘 Chapter 9: Statistical Analysis for Biology\n",
        "- Hypothesis testing basics\n",
        "- t-tests and chi-square tests\n",
        "- Correlation analysis\n",
        "- Introduction to `scipy.stats`\n",
        "\n",
        "### 📘 Chapter 10: Practical Projects\n",
        "- Analyzing gene expression data\n",
        "- Population genetics calculations\n",
        "- Ecological data analysis\n",
        "- Creating reproducible research workflows\n",
        "\n",
        "---\n",
        "\n",
        "## 🚀 Advanced Topics *(Optional – Weeks 11–12)*\n",
        "\n",
        "### 📘 Chapter 11: Bioinformatics Libraries\n",
        "- Introduction to Biopython\n",
        "- Working with biological databases\n",
        "- Phylogenetic analysis basics\n",
        "\n",
        "### 📘 Chapter 12: Best Practices\n",
        "- Code organization and documentation\n",
        "- Error handling\n",
        "- Reproducible research practices\n",
        "- Sharing code and results\n",
        "\n",
        "---\n",
        "\n",
        "## 🧠 Key Teaching Strategies\n",
        "\n",
        "1. Start each chapter with biological context – explain why the programming concept matters for their field.\n",
        "2. Use biological datasets throughout – gene sequences, experimental measurements, species data.\n",
        "3. Include hands-on exercises after each concept.\n",
        "4. Emphasize reproducibility – show how code documents their analysis process.\n",
        "5. Build complexity gradually – start with simple examples, then real research scenarios.\n",
        "\n",
        "---\n",
        "\n",
        "✅ This progression moves from basic programming concepts to practical biological applications, ensuring students can immediately apply what they learn to their research and coursework.\n"
      ],
      "metadata": {
        "id": "uabyogLRNvaB"
      }
    },
    {
      "cell_type": "markdown",
      "source": [
        "# **Chapter 1:** Getting Started with Python and Colab\n",
        "# Python for Biological Sciences\n",
        "\n",
        "\n",
        "Welcome to your first Python programming lesson!\n",
        "\n",
        "This notebook is designed specifically for biological science students.\n",
        "You'll learn programming concepts using examples relevant to biology,\n",
        "from DNA sequences to experimental data analysis.\n",
        "\n",
        "By the end of this chapter, you'll be able to:\n",
        "- Navigate Google Colab\n",
        "- Write basic Python code\n",
        "- Work with different data types\n",
        "- Understand variables and basic operations\n",
        "- Use print statements effectively\n"
      ],
      "metadata": {
        "id": "B0MgaQZ-fw5F"
      }
    },
    {
      "cell_type": "markdown",
      "source": [
        "# ========================================================================\n",
        "# SECTION 1: INTRODUCTION TO GOOGLE COLAB\n",
        "# =======================================================================\n",
        "\n",
        "\n",
        "🔬 **WHAT IS GOOGLE COLAB?**\n",
        "\n",
        "Google Colab is a free online platform that lets you write and run Python code\n",
        "in your browser - no installation required! It's perfect for:\n",
        "- Data analysis\n",
        "- Creating graphs and visualizations\n",
        "- Sharing your research code\n",
        "- Collaborating with colleagues\n",
        "\n",
        "🧬 **WHY PYTHON FOR BIOLOGY?**\n",
        "- Analyze DNA sequences\n",
        "- Process experimental data\n",
        "- Create publication-quality graphs\n",
        "- Automate repetitive calculations\n",
        "- Share reproducible research\n"
      ],
      "metadata": {
        "id": "EO1ZddF5gFQW"
      }
    },
    {
      "cell_type": "markdown",
      "source": [
        "# =============================================================\n",
        "# SECTION 2: YOUR FIRST PYTHON CODE\n",
        "# ==============================================================\n",
        "\n",
        "# Let's start with the traditional first program - but with a biological twist!"
      ],
      "metadata": {
        "id": "UQD22QvLghLl"
      }
    },
    {
      "cell_type": "code",
      "source": [
        "print(\"Welcome to Python for Biology!\")"
      ],
      "metadata": {
        "id": "MZ5URZ9Cgo8c",
        "colab": {
          "base_uri": "https://localhost:8080/"
        },
        "outputId": "fb4a5b0b-ea99-40b0-cf42-69d6e66422c1"
      },
      "execution_count": null,
      "outputs": [
        {
          "output_type": "stream",
          "name": "stdout",
          "text": [
            "Welcome to Python for Biology!\n"
          ]
        }
      ]
    },
    {
      "cell_type": "code",
      "source": [
        "print(Welcome to Python for Biology)"
      ],
      "metadata": {
        "id": "ACJ2P7MFgwQp"
      },
      "execution_count": null,
      "outputs": []
    },
    {
      "cell_type": "code",
      "source": [],
      "metadata": {
        "id": "ylTsHqjwhWum"
      },
      "execution_count": null,
      "outputs": []
    },
    {
      "cell_type": "code",
      "source": [],
      "metadata": {
        "id": "btUwnzhXhXK6"
      },
      "execution_count": null,
      "outputs": []
    },
    {
      "cell_type": "markdown",
      "source": [
        "# =================================================================\n",
        "# SECTION 3: COMMENTS - DOCUMENTING YOUR CODE\n",
        "# ==================================================================\n",
        "\n",
        "\n",
        "Comments are text that Python ignores - they're for humans to read.\n",
        "In research, good comments are essential for:\n",
        "- Explaining what your analysis does\n",
        "- Helping collaborators understand your code\n",
        "- Remembering what you did months later\n"
      ],
      "metadata": {
        "id": "Gyusj-G5hki8"
      }
    },
    {
      "cell_type": "code",
      "source": [
        "print(\"This code will run\")  # Comment at the end of a line"
      ],
      "metadata": {
        "id": "BS7785qbh0pj",
        "colab": {
          "base_uri": "https://localhost:8080/"
        },
        "outputId": "870698b8-b83b-4d8f-d801-8c836bb4a7fa"
      },
      "execution_count": null,
      "outputs": [
        {
          "output_type": "stream",
          "name": "stdout",
          "text": [
            "This code will run\n"
          ]
        }
      ]
    },
    {
      "cell_type": "markdown",
      "source": [
        "# This is a single-line comment\n",
        "print(\"This code will run\")  # Comment at the end of a line\n",
        "\n",
        "This is a multi-line comment (docstring).\n",
        "Use it for longer explanations of your code.\n",
        "Perfect for describing experimental methods!"
      ],
      "metadata": {
        "id": "dZzi5e7hh-Zy"
      }
    },
    {
      "cell_type": "code",
      "source": [
        "organism = \"E. coli\""
      ],
      "metadata": {
        "id": "lMtLObvpiM4Q"
      },
      "execution_count": null,
      "outputs": []
    },
    {
      "cell_type": "code",
      "source": [
        "temperature = 37"
      ],
      "metadata": {
        "id": "PSu7C4jaiMnS"
      },
      "execution_count": null,
      "outputs": []
    },
    {
      "cell_type": "code",
      "source": [
        "print(f\"Growing {organism} at {temperature}°C\")"
      ],
      "metadata": {
        "id": "tod1i9RAiY0i"
      },
      "execution_count": null,
      "outputs": []
    },
    {
      "cell_type": "code",
      "source": [
        "Boy = \"David\"\n",
        "Age = 25\n",
        "Country = \"USA\""
      ],
      "metadata": {
        "id": "v6BOcDr7i2B7"
      },
      "execution_count": null,
      "outputs": []
    },
    {
      "cell_type": "code",
      "source": [
        "print(f\"{Boy} is of {Age} years old living in {Country} \")"
      ],
      "metadata": {
        "id": "sHUFmJbqjOuF"
      },
      "execution_count": null,
      "outputs": []
    },
    {
      "cell_type": "markdown",
      "source": [
        "# ===============================================================\n",
        "# SECTION 4: VARIABLES - STORING YOUR DATA\n",
        "# =================================================================\n",
        "\n",
        "Variables are containers for storing data values.\n",
        "Think of them as labeled test tubes in your lab!\n",
        "\n",
        "🧪 NAMING RULES FOR VARIABLES:\n",
        "- Must start with a letter or underscore\n",
        "- Can contain letters, numbers, and underscores\n",
        "- Case-sensitive (DNA ≠ dna)\n",
        "- Use descriptive names"
      ],
      "metadata": {
        "id": "6o5YgxnpjxB4"
      }
    },
    {
      "cell_type": "markdown",
      "source": [
        "## 🧮 VARIABLES in Python\n",
        "\n",
        "### ✅ What is a Variable?\n",
        "\n",
        "A **variable** is a **name** that stores a **value** in memory so you can use it later in your code.\n",
        "\n",
        "Think of it like a labeled container that holds data.\n",
        "\n",
        "---"
      ],
      "metadata": {
        "id": "svEx0_Ac14JH"
      }
    },
    {
      "cell_type": "code",
      "source": [
        "# Examples of good variable names for biology\n",
        "gene_name = \"BRCA1\"\n",
        "patient_age = 45\n",
        "dna_concentration = 250.5\n",
        "is_mutation_present = True"
      ],
      "metadata": {
        "id": "Cgkxz54SkWYx"
      },
      "execution_count": null,
      "outputs": []
    },
    {
      "cell_type": "code",
      "source": [
        "# Examples of poor variable names\n",
        "x = \"BRCA1\"  # Not descriptive\n",
        "2gene = \"BRCA1\"  # Starts with number (ERROR!)\n",
        "gene-name = \"BRCA1\"  # Contains hyphen (ERROR!)"
      ],
      "metadata": {
        "id": "3f9O0ZPpkZCZ"
      },
      "execution_count": null,
      "outputs": []
    },
    {
      "cell_type": "code",
      "source": [
        "# Print variables to see their values\n",
        "print(\"Gene:\", gene_name)\n",
        "print(\"Patient age:\", patient_age)\n",
        "print(\"DNA concentration:\", dna_concentration, \"ng/μL\")\n",
        "print(\"Mutation present:\", is_mutation_present"
      ],
      "metadata": {
        "id": "yJfM_ktBkfDA"
      },
      "execution_count": null,
      "outputs": []
    },
    {
      "cell_type": "code",
      "source": [
        "print(\"Gene:\", gene_name)"
      ],
      "metadata": {
        "id": "ERBNPLUIktwg"
      },
      "execution_count": null,
      "outputs": []
    },
    {
      "cell_type": "code",
      "source": [
        "print(\"Patient age:\", patient_age)"
      ],
      "metadata": {
        "id": "ooP0JoJ6lNrd"
      },
      "execution_count": null,
      "outputs": []
    },
    {
      "cell_type": "code",
      "source": [
        "print(\"DNA concentration:\", dna_concentration, \"ng/μL\")"
      ],
      "metadata": {
        "id": "SPRQ5dvIlR7M"
      },
      "execution_count": null,
      "outputs": []
    },
    {
      "cell_type": "code",
      "source": [
        "print(\"Mutation present:\", is_mutation_present)"
      ],
      "metadata": {
        "id": "2MZadiG4lWbK"
      },
      "execution_count": null,
      "outputs": []
    },
    {
      "cell_type": "markdown",
      "source": [
        "### **EXERCISE:** Create variables for your own biological data\n",
        "\n",
        "### Example: species_name, sample_size, experiment_date"
      ],
      "metadata": {
        "id": "1YTijHdglurb"
      }
    },
    {
      "cell_type": "code",
      "source": [],
      "metadata": {
        "id": "jD81QXuUl4ip"
      },
      "execution_count": null,
      "outputs": []
    },
    {
      "cell_type": "code",
      "source": [],
      "metadata": {
        "id": "KmJcb8Eil4UX"
      },
      "execution_count": null,
      "outputs": []
    },
    {
      "cell_type": "markdown",
      "source": [
        "# ===============================================================\n",
        "# SECTION 5: DATA TYPES - DIFFERENT KINDS OF INFORMATION\n",
        "# ================================================================\n",
        "\n",
        "\n",
        "Python has several basic data types. Let's explore them with biological examples:\n"
      ],
      "metadata": {
        "id": "lm0VeNEguwH7"
      }
    },
    {
      "cell_type": "markdown",
      "source": [
        "## 🧬 DATA TYPES in Python\n",
        "\n",
        "Python has several **built-in data types** that describe the kind of data a variable holds.\n",
        "\n",
        "Understanding data types is essential for writing correct and efficient code.\n",
        "\n",
        "---\n",
        "\n",
        "### ✅ Common Data Types\n",
        "\n",
        "| Type       | Example         | Description                          |\n",
        "|------------|------------------|--------------------------------------|\n",
        "| `int`      | `5`              | Integer (whole number)               |\n",
        "| `float`    | `3.14`           | Decimal number                       |\n",
        "| `str`      | `\"ATGC\"`         | String (text or sequence)            |\n",
        "| `bool`     | `True`, `False`  | Boolean (logical values)             |\n",
        "| `list`     | `[1, 2, 3]`      | Ordered, mutable collection          |\n",
        "| `tuple`    | `(1, 2)`         | Ordered, **immutable** collection    |\n",
        "| `dict`     | `{\"gene\": \"BRCA1\"}` | Key-value pairs                   |\n",
        "| `set`      | `{1, 2, 3}`      | Unordered, **unique** values         |\n",
        "| `NoneType` | `None`           | Represents no value or \"empty\"       |\n",
        "\n",
        "---\n",
        "\n",
        "### 🔬 Examples in Biology\n",
        "\n",
        "```python\n",
        "gene = \"TP53\"                # str\n",
        "length = 393                 # int\n",
        "gc_content = 0.55            # float\n",
        "is_protein_coding = True     # bool\n",
        "bases = [\"A\", \"T\", \"G\", \"C\"] # list"
      ],
      "metadata": {
        "id": "cON5WuqQ2QSE"
      }
    },
    {
      "cell_type": "code",
      "source": [
        "# 1. STRINGS (text) - for names, sequences, descriptions\n",
        "species = \"Homo sapiens\"\n",
        "dna_sequence = \"ATCGTAGCTA\"\n",
        "experiment_notes = \"Sample collected from healthy tissue\""
      ],
      "metadata": {
        "id": "rlryNV-7wZ9q"
      },
      "execution_count": null,
      "outputs": []
    },
    {
      "cell_type": "code",
      "source": [
        "print(\"Species:\", species)"
      ],
      "metadata": {
        "id": "7-1VVWwdw0Jq"
      },
      "execution_count": null,
      "outputs": []
    },
    {
      "cell_type": "code",
      "source": [
        "dna_sequence = \"ATCGTAGCTA\""
      ],
      "metadata": {
        "id": "EzA3CWN78M4X"
      },
      "execution_count": null,
      "outputs": []
    },
    {
      "cell_type": "code",
      "source": [
        "experiment_notes = \"Sample collected from healthy tissue\""
      ],
      "metadata": {
        "id": "nc7jo33x8PLM"
      },
      "execution_count": null,
      "outputs": []
    },
    {
      "cell_type": "code",
      "source": [],
      "metadata": {
        "id": "AoYIUlgx8UCI"
      },
      "execution_count": null,
      "outputs": []
    },
    {
      "cell_type": "code",
      "source": [
        "# 2. INTEGERS (whole numbers) - for counts, ages, generations\n",
        "chromosome_count = 46\n",
        "patient_count = 120\n",
        "generation_number = 5"
      ],
      "metadata": {
        "id": "0HpC_6kK8Ubh"
      },
      "execution_count": null,
      "outputs": []
    },
    {
      "cell_type": "code",
      "source": [
        "print(\"Chromosomes:\", chromosome_count)"
      ],
      "metadata": {
        "id": "GoFAWo5d8X6q"
      },
      "execution_count": null,
      "outputs": []
    },
    {
      "cell_type": "code",
      "source": [
        "print(\"Patients in study:\", patient_count)"
      ],
      "metadata": {
        "id": "F5AdT55a8dgI"
      },
      "execution_count": null,
      "outputs": []
    },
    {
      "cell_type": "code",
      "source": [
        "print(\"Generation:\", generation_number)"
      ],
      "metadata": {
        "id": "EJ41Y6Gv8gGZ"
      },
      "execution_count": null,
      "outputs": []
    },
    {
      "cell_type": "code",
      "source": [],
      "metadata": {
        "id": "0XidiFDj8jyX"
      },
      "execution_count": null,
      "outputs": []
    },
    {
      "cell_type": "code",
      "source": [
        "# 3. FLOATS (decimal numbers) - for measurements, concentrations\n",
        "body_temperature = 37.2\n",
        "ph_level = 7.4\n",
        "protein_concentration = 15.8"
      ],
      "metadata": {
        "id": "PHi-M5RP8jto"
      },
      "execution_count": null,
      "outputs": []
    },
    {
      "cell_type": "code",
      "source": [
        "print(\"Temperature:\", body_temperature, \"°C\")\n",
        "print(\"pH level:\", ph_level)\n",
        "print(\"Protein concentration:\", protein_concentration, \"mg/mL\")"
      ],
      "metadata": {
        "id": "hwBwnnPV8jeB"
      },
      "execution_count": null,
      "outputs": []
    },
    {
      "cell_type": "code",
      "source": [],
      "metadata": {
        "id": "9seh89218ulR"
      },
      "execution_count": null,
      "outputs": []
    },
    {
      "cell_type": "code",
      "source": [
        "# 4. BOOLEANS (True/False) - for yes/no questions\n",
        "is_healthy = True\n",
        "mutation_detected = False\n",
        "treatment_effective = True"
      ],
      "metadata": {
        "id": "JQ9sEH9j8uhn"
      },
      "execution_count": null,
      "outputs": []
    },
    {
      "cell_type": "code",
      "source": [
        "print(\"Patient healthy:\", is_healthy)\n",
        "print(\"Mutation detected:\", mutation_detected)\n",
        "print(\"Treatment effective:\", treatment_effective)"
      ],
      "metadata": {
        "id": "1azT9vgS8ucE"
      },
      "execution_count": null,
      "outputs": []
    },
    {
      "cell_type": "code",
      "source": [
        "# Check the type of a variable\n",
        "print(\"\\nData types:\")\n",
        "print(\"Type of species:\", type(species))\n",
        "print(\"Type of chromosome_count:\", type(chromosome_count))\n",
        "print(\"Type of body_temperature:\", type(body_temperature))\n",
        "print(\"Type of is_healthy:\", type(is_healthy))"
      ],
      "metadata": {
        "id": "GTOx96TV897x"
      },
      "execution_count": null,
      "outputs": []
    },
    {
      "cell_type": "markdown",
      "source": [
        "# ================================================================\n",
        "# SECTION 6: BASIC OPERATIONS\n",
        "# =================================================================\n",
        "\n",
        "Let's perform some basic operations with biological data"
      ],
      "metadata": {
        "id": "m3MEFcog9Mpo"
      }
    },
    {
      "cell_type": "code",
      "source": [
        "# ARITHMETIC OPERATIONS\n",
        "sample_1_cells = 1000000\n",
        "sample_2_cells = 750000\n",
        "total_cells = sample_1_cells + sample_2_cells"
      ],
      "metadata": {
        "id": "9V0NVaPJ9W4a"
      },
      "execution_count": null,
      "outputs": []
    },
    {
      "cell_type": "code",
      "source": [
        "print(\"Sample 1 cells:\", sample_1_cells)\n",
        "print(\"Sample 2 cells:\", sample_2_cells)\n",
        "print(\"Total cells:\", total_cells)"
      ],
      "metadata": {
        "id": "cPjOW4LL9fzI"
      },
      "execution_count": null,
      "outputs": []
    },
    {
      "cell_type": "code",
      "source": [
        "# More arithmetic operations\n",
        "initial_bacteria = 100\n",
        "growth_rate = 2\n",
        "time_hours = 3"
      ],
      "metadata": {
        "id": "iy7KlS0O99Dj"
      },
      "execution_count": null,
      "outputs": []
    },
    {
      "cell_type": "code",
      "source": [
        "# Bacterial growth calculation\n",
        "final_bacteria = initial_bacteria * (growth_rate ** time_hours)\n",
        "print(f\"After {time_hours} hours: {final_bacteria} bacteria\")"
      ],
      "metadata": {
        "colab": {
          "base_uri": "https://localhost:8080/"
        },
        "id": "Rhe-LG-U-F2c",
        "outputId": "66984be3-e8d0-4ef6-e72d-18ef91eaeeb8"
      },
      "execution_count": null,
      "outputs": [
        {
          "output_type": "stream",
          "name": "stdout",
          "text": [
            "After 3 hours: 800 bacteria\n"
          ]
        }
      ]
    },
    {
      "cell_type": "code",
      "source": [
        "# STRING OPERATIONS\n",
        "gene_id = \"ENSG00000139618\"\n",
        "gene_symbol = \"BRCA2\"\n",
        "full_identifier = gene_id + \"_\" + gene_symbol\n",
        "\n",
        "print(\"Full gene identifier:\", full_identifier)"
      ],
      "metadata": {
        "id": "J-pTmhhy-eE4"
      },
      "execution_count": null,
      "outputs": []
    },
    {
      "cell_type": "code",
      "source": [
        "# STRING REPETITION (useful for creating sequences)\n",
        "codon = \"ATG\"\n",
        "start_sequence = codon * 3\n",
        "print(\"Repeated start codon:\", start_sequence)"
      ],
      "metadata": {
        "id": "SzhvEF7F-tiY"
      },
      "execution_count": null,
      "outputs": []
    },
    {
      "cell_type": "markdown",
      "source": [
        "# ===============================================================\n",
        "# SECTION 7: PRINT STATEMENTS - DISPLAYING YOUR RESULTS\n",
        "# ===============================================================\n",
        "The print() function is your main tool for displaying results.\n",
        "Let's explore different ways to format output for biological data.\n"
      ],
      "metadata": {
        "id": "tiq0mYI9_Bbs"
      }
    },
    {
      "cell_type": "code",
      "source": [
        "# Basic printing\n",
        "organism = \"Drosophila melanogaster\"\n",
        "print(organism)"
      ],
      "metadata": {
        "id": "EsbF4Lf2_pNx"
      },
      "execution_count": null,
      "outputs": []
    },
    {
      "cell_type": "code",
      "source": [
        "# Printing multiple items\n",
        "gene = \"white\"\n",
        "chromosome = \"X\"\n",
        "print(\"Gene:\", gene, \"Location:\", chromosome)"
      ],
      "metadata": {
        "colab": {
          "base_uri": "https://localhost:8080/"
        },
        "id": "zPVaSr-V_vKz",
        "outputId": "aaf1876d-36c9-409a-8e59-02e0c25de679"
      },
      "execution_count": null,
      "outputs": [
        {
          "output_type": "stream",
          "name": "stdout",
          "text": [
            "Gene: white Location: X\n"
          ]
        }
      ]
    },
    {
      "cell_type": "code",
      "source": [
        "# Using f-strings (formatted strings) - RECOMMENDED for biology\n",
        "temperature = 25.5\n",
        "humidity = 65\n",
        "print(f\"Culture conditions: {temperature}°C, {humidity}% humidity\")"
      ],
      "metadata": {
        "id": "91RwwoOXA5FA"
      },
      "execution_count": null,
      "outputs": []
    },
    {
      "cell_type": "code",
      "source": [
        "# Including units and proper formatting\n",
        "concentration = 0.05\n",
        "print(f\"Antibiotic concentration: {concentration} mg/mL\")"
      ],
      "metadata": {
        "id": "E-Cln0QBA8kF"
      },
      "execution_count": null,
      "outputs": []
    },
    {
      "cell_type": "code",
      "source": [
        "# Formatting numbers\n",
        "pi = 3.14159265359\n",
        "print(f\"π rounded to 2 decimals: {pi:.2f}\")"
      ],
      "metadata": {
        "id": "X7GuAPYJBANr"
      },
      "execution_count": null,
      "outputs": []
    },
    {
      "cell_type": "code",
      "source": [
        "# Multiple variables in one f-string\n",
        "sample_id = \"S001\"\n",
        "cell_count = 250000\n",
        "viability = 0.95\n",
        "print(f\"Sample {sample_id}: {cell_count} cells, {viability:.1%} viable\")"
      ],
      "metadata": {
        "id": "oYs0q0mfBCrS"
      },
      "execution_count": null,
      "outputs": []
    },
    {
      "cell_type": "markdown",
      "source": [
        "**What does :.1% mean?**\n",
        "It tells Python to:\n",
        "\n",
        "Format the number as a percentage\n",
        "\n",
        "With 1 digit after the decimal point"
      ],
      "metadata": {
        "id": "AOabYgfeBeP4"
      }
    },
    {
      "cell_type": "markdown",
      "source": [],
      "metadata": {
        "id": "H1iM9NV6BvyK"
      }
    },
    {
      "cell_type": "markdown",
      "source": [
        "# ============================================================\n",
        "# SECTION 8: INTERACTIVE EXERCISES\n",
        "# ============================================================\n",
        "\n",
        "\n",
        "EXERCISE 1: Create Your Lab Profile\n",
        "Create variables for your information and print them nicely."
      ],
      "metadata": {
        "id": "iFHPOVLSB2Ew"
      }
    },
    {
      "cell_type": "code",
      "source": [
        "# TODO: Fill in your information\n",
        "your_name = \"Your Name Here\"\n",
        "research_area = \"Your Research Area\"\n",
        "favorite_organism = \"Your Favorite Organism\"\n",
        "years_experience = 0\n"
      ],
      "metadata": {
        "id": "SYx1qZnrCBTF"
      },
      "execution_count": null,
      "outputs": []
    },
    {
      "cell_type": "code",
      "source": [
        "print(\"=== LAB MEMBER PROFILE ===\")\n",
        "print(f\"Name: {your_name}\")\n",
        "print(f\"Research Area: {research_area}\")\n",
        "print(f\"Favorite Organism: {favorite_organism}\")\n",
        "print(f\"Years of Experience: {years_experience}\")"
      ],
      "metadata": {
        "id": "oLgJYpbaCF-8"
      },
      "execution_count": null,
      "outputs": []
    },
    {
      "cell_type": "markdown",
      "source": [
        "EXERCISE 2: DNA Sequence Analysis\n",
        "Work with a DNA sequence and extract basic information."
      ],
      "metadata": {
        "id": "6aYEDGXKCNyT"
      }
    },
    {
      "cell_type": "code",
      "source": [
        "# Given DNA sequence\n",
        "dna_seq = \"ATGCGATCGTAGCTAGCATGC\"\n",
        "\n",
        "# TODO: Calculate and print the following:\n",
        "sequence_length = len(dna_seq)"
      ],
      "metadata": {
        "id": "pr6JII1nCk8B"
      },
      "execution_count": null,
      "outputs": []
    },
    {
      "cell_type": "markdown",
      "source": [
        "In Python, len() is a built-in function that returns the number of items in an object."
      ],
      "metadata": {
        "id": "Lv79IuwFC3HY"
      }
    },
    {
      "cell_type": "code",
      "source": [
        "print(f\"DNA sequence: {dna_seq}\")\n",
        "print(f\"Length: {sequence_length} base pairs\")"
      ],
      "metadata": {
        "id": "1Nd0lcvjEPK5"
      },
      "execution_count": null,
      "outputs": []
    },
    {
      "cell_type": "code",
      "source": [
        "# Count specific nucleotides (we'll learn better ways later!)\n",
        "a_count = dna_seq.count('A')\n",
        "t_count = dna_seq.count('T')\n",
        "g_count = dna_seq.count('G')\n",
        "c_count = dna_seq.count('C')"
      ],
      "metadata": {
        "id": "9HuYDBPLEWc3"
      },
      "execution_count": null,
      "outputs": []
    },
    {
      "cell_type": "markdown",
      "source": [
        "In Python, .count() is a string (or list/tuple) method used to count how many times a specific element or substring appears."
      ],
      "metadata": {
        "id": "RvGhaOEDEmFx"
      }
    },
    {
      "cell_type": "code",
      "source": [
        "print(f\"A: {a_count}, T: {t_count}, G: {g_count}, C: {c_count}\")"
      ],
      "metadata": {
        "id": "ptcradScEp-I"
      },
      "execution_count": null,
      "outputs": []
    },
    {
      "cell_type": "code",
      "source": [
        "# Calculate GC content (important for DNA analysis!)\n",
        "gc_content = (g_count + c_count) / sequence_length"
      ],
      "metadata": {
        "id": "XJWGwVzNEyfq"
      },
      "execution_count": null,
      "outputs": []
    },
    {
      "cell_type": "code",
      "source": [
        "print(f\"GC content: {gc_content:.2%}\")"
      ],
      "metadata": {
        "colab": {
          "base_uri": "https://localhost:8080/"
        },
        "id": "qMDeqjxyE0pM",
        "outputId": "af866f1e-7e94-491b-d5c6-b34b38f60404"
      },
      "execution_count": null,
      "outputs": [
        {
          "output_type": "stream",
          "name": "stdout",
          "text": [
            "GC content: 52.38%\n"
          ]
        }
      ]
    },
    {
      "cell_type": "markdown",
      "source": [
        "EXERCISE 3: Experimental Data\n",
        "Practice with typical lab measurements."
      ],
      "metadata": {
        "id": "sp_XgqxyFQ6i"
      }
    },
    {
      "cell_type": "code",
      "source": [
        "# Experimental data\n",
        "experiment_name = \"Protein Expression Analysis\"\n",
        "control_reading = 0.125\n",
        "treatment_reading = 0.847\n",
        "background = 0.05"
      ],
      "metadata": {
        "id": "CryUcGu2FcBg"
      },
      "execution_count": null,
      "outputs": []
    },
    {
      "cell_type": "code",
      "source": [
        "# TODO: Calculate fold change\n",
        "corrected_control = control_reading - background\n",
        "corrected_treatment = treatment_reading - background\n",
        "fold_change = corrected_treatment / corrected_control"
      ],
      "metadata": {
        "id": "h33083oWFiR4"
      },
      "execution_count": null,
      "outputs": []
    },
    {
      "cell_type": "code",
      "source": [
        "print(f\"Experiment: {experiment_name}\")\n",
        "print(f\"Control (corrected): {corrected_control:.3f}\")\n",
        "print(f\"Treatment (corrected): {corrected_treatment:.3f}\")\n",
        "print(f\"Fold change: {fold_change:.2f}x\")"
      ],
      "metadata": {
        "id": "bwPeWtQFFXec"
      },
      "execution_count": null,
      "outputs": []
    },
    {
      "cell_type": "markdown",
      "source": [
        "# ================================================================\n",
        "# SECTION 9: COMMON MISTAKES AND DEBUGGING\n",
        "# =================================================================\n",
        "\n",
        "\n",
        "🚨 COMMON MISTAKES TO AVOID:\n",
        "\n",
        "1. Forgetting quotes around strings\n",
        "2. Using reserved words as variable names\n",
        "3. Case sensitivity issues\n",
        "4. Mixing up data types"
      ],
      "metadata": {
        "id": "08vC105OFykS"
      }
    },
    {
      "cell_type": "code",
      "source": [
        "# MISTAKE 1: Forgetting quotes (uncomment to see error)\n",
        "gene = BRCA1"
      ],
      "metadata": {
        "id": "gF2kyfjHF7U7"
      },
      "execution_count": null,
      "outputs": []
    },
    {
      "cell_type": "code",
      "source": [
        "# MISTAKE 2: Using reserved words\n",
        "class = \"Mammalia\"  # ERROR! 'class' is reserved\n",
        "#organism_class = \"Mammalia\"  # CORRECT"
      ],
      "metadata": {
        "id": "4x-hhveaGRrB"
      },
      "execution_count": null,
      "outputs": []
    },
    {
      "cell_type": "code",
      "source": [
        "# MISTAKE 3: Case sensitivity\n",
        "Gene = \"BRCA1\"\n",
        "gene = \"brca1\"\n",
        "print(f\"These are different variables: {Gene} vs {gene}\")"
      ],
      "metadata": {
        "id": "aQnFuzfhGlfm"
      },
      "execution_count": null,
      "outputs": []
    },
    {
      "cell_type": "code",
      "source": [
        "# MISTAKE 4: Mixing data types incorrectly\n",
        "age = \"25\"  # This is a string, not a number\n",
        "# age_next_year = age + 1  # ERROR! Can't add number to string\n",
        "age_next_year = int(age) + 1  # CORRECT: convert to integer first\n",
        "print(f\"Next year's age: {age_next_year}\")"
      ],
      "metadata": {
        "id": "r5MxBc-uGxKj"
      },
      "execution_count": null,
      "outputs": []
    },
    {
      "cell_type": "markdown",
      "source": [
        "# =================================================================\n",
        "# SECTION 10: PRACTICE PROBLEMS\n",
        "# ===================================================================\n",
        "\n",
        "\n",
        "🧬 PRACTICE PROBLEM 1: Culture Media Preparation\n",
        "You need to prepare 500 mL of culture media with specific concentrations."
      ],
      "metadata": {
        "id": "2CavkpEiHwEL"
      }
    },
    {
      "cell_type": "code",
      "source": [
        "# Given information\n",
        "total_volume = 500  # mL\n",
        "glucose_concentration = 2.0  # g/L\n",
        "nacl_concentration = 0.5  # g/L"
      ],
      "metadata": {
        "id": "JZ9Tj_V2IBhj"
      },
      "execution_count": null,
      "outputs": []
    },
    {
      "cell_type": "markdown",
      "source": [
        "TODO: Calculate how much of each component you need\n",
        "\n",
        "Hint: Convert L to mL, then calculate grams needed"
      ],
      "metadata": {
        "id": "W8eTj3RMIE98"
      }
    },
    {
      "cell_type": "code",
      "source": [
        "glucose_needed = (glucose_concentration * total_volume) / 1000\n",
        "nacl_needed = (nacl_concentration * total_volume) / 1000"
      ],
      "metadata": {
        "id": "UKS2EDoVIRy5"
      },
      "execution_count": null,
      "outputs": []
    },
    {
      "cell_type": "code",
      "source": [
        "print(\"=== CULTURE MEDIA RECIPE ===\")\n",
        "print(f\"For {total_volume} mL of media:\")\n",
        "print(f\"Glucose: {glucose_needed} g\")\n",
        "print(f\"NaCl: {nacl_needed} g\")"
      ],
      "metadata": {
        "id": "N9eI66AaIUPA"
      },
      "execution_count": null,
      "outputs": []
    },
    {
      "cell_type": "markdown",
      "source": [
        "PRACTICE PROBLEM 2: Cell Culture Passage\n",
        "Calculate dilution factors for cell culture."
      ],
      "metadata": {
        "id": "2XmPdOpWIrgE"
      }
    },
    {
      "cell_type": "code",
      "source": [
        "# Given information\n",
        "current_density = 2000000  # cells/mL\n",
        "target_density = 500000   # cells/mL\n",
        "culture_volume = 10       # mL"
      ],
      "metadata": {
        "id": "wxKy_mCXIxzz"
      },
      "execution_count": null,
      "outputs": []
    },
    {
      "cell_type": "code",
      "source": [
        "# TODO: Calculate dilution factor and volumes needed\n",
        "dilution_factor = current_density / target_density\n",
        "volume_needed = culture_volume / dilution_factor\n",
        "media_to_add = culture_volume - volume_needed"
      ],
      "metadata": {
        "id": "5Q1Kn06gI02o"
      },
      "execution_count": null,
      "outputs": []
    },
    {
      "cell_type": "code",
      "source": [
        "print(\"=== CELL PASSAGE CALCULATION ===\")\n",
        "print(f\"Current density: {current_density:,} cells/mL\")\n",
        "print(f\"Target density: {target_density:,} cells/mL\")\n",
        "print(f\"Dilution factor: 1:{dilution_factor:.1f}\")\n",
        "print(f\"Take {volume_needed:.2f} mL of culture\")\n",
        "print(f\"Add {media_to_add:.2f} mL of fresh media\")"
      ],
      "metadata": {
        "id": "ezGXqiSYI3jd"
      },
      "execution_count": null,
      "outputs": []
    },
    {
      "cell_type": "markdown",
      "source": [
        "🏠 HOMEWORK:\n",
        "1. Create a notebook with information about your research project\n",
        "2. Practice calculating molarity and dilutions\n",
        "3. Try working with different DNA sequences\n",
        "4. Experiment with different print formatting options"
      ],
      "metadata": {
        "id": "fjbRjJoCJS5N"
      }
    },
    {
      "cell_type": "markdown",
      "source": [
        "# ==============================================================\n",
        "# SECTION 11: SUMMARY AND NEXT STEPS\n",
        "# ================================================================\n",
        "\n",
        "🎉 CONGRATULATIONS! You've completed Chapter 1!\n",
        "\n",
        "You've learned:\n",
        "✅ How to use Google Colab\n",
        "✅ Basic Python syntax\n",
        "✅ Variables and data types\n",
        "✅ Basic operations\n",
        "✅ Print statements and formatting\n",
        "✅ Common mistakes to avoid\n",
        "\n",
        "🔬 BIOLOGICAL APPLICATIONS COVERED:\n",
        "- DNA sequence analysis\n",
        "- Experimental data calculations\n",
        "- Lab calculations (concentrations, dilutions)\n",
        "- Data formatting for research"
      ],
      "metadata": {
        "id": "cTVyad5bI9PY"
      }
    }
  ]
}